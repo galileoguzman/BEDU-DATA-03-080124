{
 "cells": [
  {
   "cell_type": "code",
   "execution_count": null,
   "id": "52ab9656-27ed-4af5-8f42-41be1e686875",
   "metadata": {},
   "outputs": [],
   "source": [
    "import requests\n",
    "\n",
    "# Constants\n",
    "DATASET_URL = 'https://raw.githubusercontent.com/fivethirtyeight/data/master/nba-elo/nbaallelo.csv'\n",
    "FILENAME = 'tmp/NBA_DATA.csv'\n",
    "\n",
    "# Fetch external file\n",
    "response = requests.get(DATASET_URL)\n",
    "response.raise_for_status()\n",
    "\n",
    "# Save data in file\n",
    "with open(FILENAME, 'wb') as csv_file:\n",
    "   csv_file.write(response.content)\n",
    "\n",
    "# Print finished\n",
    "print('File downloaded')"
   ]
  }
 ],
 "metadata": {
  "kernelspec": {
   "display_name": "Python 3 (ipykernel)",
   "language": "python",
   "name": "python3"
  },
  "language_info": {
   "codemirror_mode": {
    "name": "ipython",
    "version": 3
   },
   "file_extension": ".py",
   "mimetype": "text/x-python",
   "name": "python",
   "nbconvert_exporter": "python",
   "pygments_lexer": "ipython3",
   "version": "3.10.5"
  }
 },
 "nbformat": 4,
 "nbformat_minor": 5
}
